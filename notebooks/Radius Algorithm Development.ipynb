{
 "cells": [
  {
   "cell_type": "code",
   "execution_count": 1,
   "metadata": {},
   "outputs": [],
   "source": [
    "from ripser import ripser\n",
    "from persim import plot_diagrams\n",
    "import matplotlib.pyplot as plt\n",
    "import numpy as np\n",
    "from sklearn import datasets"
   ]
  },
  {
   "cell_type": "code",
   "execution_count": 2,
   "metadata": {},
   "outputs": [],
   "source": [
    "data = datasets.make_circles(n_samples=100)[0] + 5 * datasets.make_circles(n_samples=100)[0]"
   ]
  },
  {
   "cell_type": "code",
   "execution_count": 3,
   "metadata": {},
   "outputs": [
    {
     "data": {
      "image/png": "[encoded data removed]",
      "text/plain": [
       "<Figure size 432x288 with 1 Axes>"
      ]
     },
     "metadata": {
      "needs_background": "light"
     },
     "output_type": "display_data"
    }
   ],
   "source": [
    "dgms = ripser(data)['dgms']\n",
    "plot_diagrams(dgms, show=True)"
   ]
  },
  {
   "cell_type": "code",
   "execution_count": 25,
   "metadata": {},
   "outputs": [
    {
     "data": {
      "text/plain": [
       "(4,)"
      ]
     },
     "execution_count": 25,
     "metadata": {},
     "output_type": "execute_result"
    }
   ],
   "source": []
  },
  {
   "cell_type": "code",
   "execution_count": 17,
   "metadata": {},
   "outputs": [
    {
     "data": {
      "text/plain": [
       "[array([[0.        , 0.05297725],\n",
       "        [0.        , 0.07165359],\n",
       "        [0.        , 0.12710379],\n",
       "        [0.        , 0.13414124],\n",
       "        [0.        , 0.14731948],\n",
       "        [0.        , 0.15708271],\n",
       "        [0.        , 0.19439095],\n",
       "        [0.        , 0.19572408],\n",
       "        [0.        , 0.23156819],\n",
       "        [0.        , 0.23246685],\n",
       "        [0.        , 0.2378366 ],\n",
       "        [0.        , 0.24722876],\n",
       "        [0.        , 0.26920286],\n",
       "        [0.        , 0.28129655],\n",
       "        [0.        , 0.28163636],\n",
       "        [0.        , 0.30355868],\n",
       "        [0.        , 0.31329703],\n",
       "        [0.        , 0.31869173],\n",
       "        [0.        , 0.33228716],\n",
       "        [0.        , 0.34357947],\n",
       "        [0.        , 0.36686715],\n",
       "        [0.        , 0.37735084],\n",
       "        [0.        , 0.39663103],\n",
       "        [0.        , 0.39797992],\n",
       "        [0.        , 0.41081518],\n",
       "        [0.        , 0.4224734 ],\n",
       "        [0.        , 0.42288294],\n",
       "        [0.        , 0.43076095],\n",
       "        [0.        , 0.4491581 ],\n",
       "        [0.        , 0.4574599 ],\n",
       "        [0.        , 0.46573105],\n",
       "        [0.        , 0.46981919],\n",
       "        [0.        , 0.47026485],\n",
       "        [0.        , 0.48758778],\n",
       "        [0.        , 0.49847516],\n",
       "        [0.        , 0.5131591 ],\n",
       "        [0.        , 0.52406907],\n",
       "        [0.        , 0.54345572],\n",
       "        [0.        , 0.5526731 ],\n",
       "        [0.        , 0.56582212],\n",
       "        [0.        , 0.57091111],\n",
       "        [0.        , 0.57678729],\n",
       "        [0.        , 0.58227414],\n",
       "        [0.        , 0.61535293],\n",
       "        [0.        , 0.62463164],\n",
       "        [0.        , 0.63105839],\n",
       "        [0.        , 0.63538235],\n",
       "        [0.        , 0.64581251],\n",
       "        [0.        , 0.65460628],\n",
       "        [0.        , 0.66720605],\n",
       "        [0.        , 0.69221169],\n",
       "        [0.        , 0.7011953 ],\n",
       "        [0.        , 0.70969993],\n",
       "        [0.        , 0.70969993],\n",
       "        [0.        , 0.71188629],\n",
       "        [0.        , 0.71502006],\n",
       "        [0.        , 0.7233367 ],\n",
       "        [0.        , 0.72774225],\n",
       "        [0.        , 0.73744684],\n",
       "        [0.        , 0.75261337],\n",
       "        [0.        , 0.78516877],\n",
       "        [0.        , 0.79760295],\n",
       "        [0.        , 0.7982108 ],\n",
       "        [0.        , 0.80196887],\n",
       "        [0.        , 0.80707896],\n",
       "        [0.        , 0.81701767],\n",
       "        [0.        , 0.82946068],\n",
       "        [0.        , 0.830603  ],\n",
       "        [0.        , 0.8395505 ],\n",
       "        [0.        , 0.85022599],\n",
       "        [0.        , 0.86398733],\n",
       "        [0.        , 0.86932433],\n",
       "        [0.        , 0.8884449 ],\n",
       "        [0.        , 0.89362746],\n",
       "        [0.        , 0.89475971],\n",
       "        [0.        , 0.89586538],\n",
       "        [0.        , 0.89666814],\n",
       "        [0.        , 0.9200387 ],\n",
       "        [0.        , 0.92640203],\n",
       "        [0.        , 0.9364593 ],\n",
       "        [0.        , 0.94060367],\n",
       "        [0.        , 0.95459241],\n",
       "        [0.        , 0.99354303],\n",
       "        [0.        , 0.99389857],\n",
       "        [0.        , 1.02315795],\n",
       "        [0.        , 1.02841735],\n",
       "        [0.        , 1.02896476],\n",
       "        [0.        , 1.03974402],\n",
       "        [0.        , 1.06101608],\n",
       "        [0.        , 1.06698847],\n",
       "        [0.        , 1.08742952],\n",
       "        [0.        , 1.09611726],\n",
       "        [0.        , 1.10572314],\n",
       "        [0.        , 1.12186754],\n",
       "        [0.        , 1.12672985],\n",
       "        [0.        , 1.15206659],\n",
       "        [0.        , 1.20190084],\n",
       "        [0.        , 1.21646523],\n",
       "        [0.        , 1.26271415],\n",
       "        [0.        ,        inf]]),\n",
       " array([[1.76342142, 1.86840475],\n",
       "        [1.6518631 , 1.92144454],\n",
       "        [1.60310137, 5.60277796],\n",
       "        [1.43175089, 1.49057055],\n",
       "        [1.38128769, 1.70087326],\n",
       "        [1.12332821, 1.19340551],\n",
       "        [1.10733795, 1.39838064],\n",
       "        [1.08455646, 1.41499257],\n",
       "        [1.08183444, 1.41528189],\n",
       "        [1.07177949, 1.10171175],\n",
       "        [1.06459463, 1.09247434],\n",
       "        [1.02174151, 1.02855468],\n",
       "        [0.65706652, 0.86620253]])]"
      ]
     },
     "execution_count": 17,
     "metadata": {},
     "output_type": "execute_result"
    }
   ],
   "source": [
    "ripser(data)['dgms']"
   ]
  },
  {
   "cell_type": "code",
   "execution_count": 16,
   "metadata": {},
   "outputs": [
    {
     "data": {
      "image/png": "[encoded data removed]",
      "text/plain": [
       "<Figure size 640x480 with 1 Axes>"
      ]
     },
     "metadata": {},
     "output_type": "display_data"
    }
   ],
   "source": [
    "plt.scatter(data.T[0],data.T[1])\n",
    "plt.show()"
   ]
  },
  {
   "cell_type": "code",
   "execution_count": 48,
   "metadata": {},
   "outputs": [],
   "source": [
    "ripser_output = np.array(ripser(data,maxdim=2)['dgms'],dtype=object)"
   ]
  },
  {
   "cell_type": "code",
   "execution_count": 49,
   "metadata": {},
   "outputs": [
    {
     "data": {
      "text/plain": [
       "(3,)"
      ]
     },
     "execution_count": 49,
     "metadata": {},
     "output_type": "execute_result"
    }
   ],
   "source": [
    "ripser_output.shape"
   ]
  },
  {
   "cell_type": "code",
   "execution_count": 51,
   "metadata": {},
   "outputs": [],
   "source": [
    "barcodes = list(zip(ripser_output[1]))"
   ]
  },
  {
   "cell_type": "code",
   "execution_count": 52,
   "metadata": {},
   "outputs": [
    {
     "data": {
      "text/plain": [
       "[(array([1.76342142, 1.86840475]),),\n",
       " (array([1.6518631 , 1.92144454]),),\n",
       " (array([1.60310137, 5.60277796]),),\n",
       " (array([1.43175089, 1.49057055]),),\n",
       " (array([1.38128769, 1.70087326]),),\n",
       " (array([1.12332821, 1.19340551]),),\n",
       " (array([1.10733795, 1.39838064]),),\n",
       " (array([1.08455646, 1.41499257]),),\n",
       " (array([1.08183444, 1.41528189]),),\n",
       " (array([1.07177949, 1.10171175]),),\n",
       " (array([1.06459463, 1.09247434]),),\n",
       " (array([1.02174151, 1.02855468]),),\n",
       " (array([0.65706652, 0.86620253]),)]"
      ]
     },
     "execution_count": 52,
     "metadata": {},
     "output_type": "execute_result"
    }
   ],
   "source": [
    "barcodes"
   ]
  },
  {
   "cell_type": "code",
   "execution_count": 55,
   "metadata": {},
   "outputs": [
    {
     "data": {
      "text/plain": [
       "array([[1.76342142, 1.86840475],\n",
       "       [1.6518631 , 1.92144454],\n",
       "       [1.60310137, 5.60277796],\n",
       "       [1.43175089, 1.49057055],\n",
       "       [1.38128769, 1.70087326],\n",
       "       [1.12332821, 1.19340551],\n",
       "       [1.10733795, 1.39838064],\n",
       "       [1.08455646, 1.41499257],\n",
       "       [1.08183444, 1.41528189],\n",
       "       [1.07177949, 1.10171175],\n",
       "       [1.06459463, 1.09247434],\n",
       "       [1.02174151, 1.02855468],\n",
       "       [0.65706652, 0.86620253]])"
      ]
     },
     "execution_count": 55,
     "metadata": {},
     "output_type": "execute_result"
    }
   ],
   "source": [
    "ripser_output[1]"
   ]
  },
  {
   "cell_type": "code",
   "execution_count": 4,
   "metadata": {},
   "outputs": [
    {
     "ename": "NameError",
     "evalue": "name 'ripser_output' is not defined",
     "output_type": "error",
     "traceback": [
      "\u001b[0;31m---------------------------------------------------------------------------\u001b[0m",
      "\u001b[0;31mNameError\u001b[0m                                 Traceback (most recent call last)",
      "\u001b[0;32m<ipython-input-4-5caa636f37a4>\u001b[0m in \u001b[0;36m<module>\u001b[0;34m\u001b[0m\n\u001b[1;32m      4\u001b[0m \u001b[0;34m\u001b[0m\u001b[0m\n\u001b[1;32m      5\u001b[0m \u001b[0;32mfor\u001b[0m \u001b[0mdim\u001b[0m \u001b[0;32min\u001b[0m \u001b[0mrange\u001b[0m\u001b[0;34m(\u001b[0m\u001b[0mmax_dim\u001b[0m\u001b[0;34m,\u001b[0m\u001b[0;36m0\u001b[0m\u001b[0;34m,\u001b[0m\u001b[0;34m-\u001b[0m\u001b[0;36m1\u001b[0m\u001b[0;34m)\u001b[0m\u001b[0;34m:\u001b[0m\u001b[0;34m\u001b[0m\u001b[0;34m\u001b[0m\u001b[0m\n\u001b[0;32m----> 6\u001b[0;31m     \u001b[0mfeatures\u001b[0m \u001b[0;34m=\u001b[0m \u001b[0mripser_output\u001b[0m\u001b[0;34m[\u001b[0m\u001b[0mdim\u001b[0m\u001b[0;34m]\u001b[0m\u001b[0;34m\u001b[0m\u001b[0;34m\u001b[0m\u001b[0m\n\u001b[0m\u001b[1;32m      7\u001b[0m     \u001b[0mpersistent_features\u001b[0m \u001b[0;34m=\u001b[0m \u001b[0;34m[\u001b[0m\u001b[0;34m]\u001b[0m\u001b[0;34m\u001b[0m\u001b[0;34m\u001b[0m\u001b[0m\n\u001b[1;32m      8\u001b[0m \u001b[0;34m\u001b[0m\u001b[0m\n",
      "\u001b[0;31mNameError\u001b[0m: name 'ripser_output' is not defined"
     ]
    }
   ],
   "source": [
    "\n",
    "\n",
    "feature_intervals = dict()\n",
    "min_persistence = 0.5\n",
    "max_dim = 2\n",
    "\n",
    "for dim in range(max_dim,0,-1):\n",
    "    features = ripser_output[dim]\n",
    "    persistent_features = []\n",
    "    \n",
    "    if len(features)>0:\n",
    "        for interval in features:\n",
    "            #Death of feature - Birth of Feature\n",
    "            persistence = abs(interval[1] - interval[0])\n",
    "            print(persistence)\n",
    "            if persistence > min_persistence:\n",
    "                #If the feature persists then we'll keep track of it\n",
    "                persistent_features.append(interval)\n",
    "    feature_intervals[dim] = persistent_features"
   ]
  },
  {
   "cell_type": "code",
   "execution_count": 2,
   "metadata": {},
   "outputs": [],
   "source": [
    "def feature_selection(data,max_dim,min_persistence):\n",
    "    \"\"\"This function will compute the persistence barcode of a point cloud using Ripser, and plot the diagram.\n",
    "\n",
    "This function uses scikit-tda's ripser.py: a lean persistent homology package for Python.\n",
    "\n",
    "Note:\n",
    "    max_dim: specifies the maximum dimension of homology to be computed\n",
    "    data: txt file or numpy array\n",
    "    \n",
    "     This will be done by selecting the betti numbers that persist longer than the threshold\n",
    "        Then radii can be selected that preserve homology for each successive dimension. \n",
    "    \"\"\"\n",
    "\n",
    "#     if type(vertices)==str:\n",
    "#         with open(vertices) as f:\n",
    "#             np.loadtxt(f, delimiter=delim)\n",
    "\n",
    "\n",
    "    barcodes = np.array(ripser(data,maxdim=max_dim)['dgms'],dtype=object)\n",
    "    #plot barcode\n",
    "\n",
    "\n",
    "    features = dict()\n",
    "\n",
    "    for dim in range(max_dim,0,-1):\n",
    "        barcode = barcodes[dim]\n",
    "        persistent_features = []\n",
    "\n",
    "        if len(features)>0:\n",
    "            for interval in barcode:\n",
    "                persistence = abs(interval[1] - interval[0]) #Death of feature - Birth of Feature\n",
    "                #Save features that persist longer than min_persistence\n",
    "                if persistence > min_persistence:\n",
    "                    persistent_features.append(interval)\n",
    "        \n",
    "        #Ensure intervals are sorted by their lower bounds\n",
    "        persistent_features.sort(key=lambda x:x[0])\n",
    "        features[dim] = persistent_features\n",
    "        \n",
    "    return features"
   ]
  },
  {
   "cell_type": "code",
   "execution_count": 107,
   "metadata": {},
   "outputs": [
    {
     "data": {
      "text/plain": [
       "{2: [],\n",
       " 1: [array([1.32939112, 1.73892856]),\n",
       "  array([1.59661341, 1.95280457]),\n",
       "  array([1.60848558, 5.80093002]),\n",
       "  array([1.65686929, 2.0295794 ]),\n",
       "  array([1.75887752, 2.06774783])]}"
      ]
     },
     "execution_count": 107,
     "metadata": {},
     "output_type": "execute_result"
    }
   ],
   "source": [
    "features = feature_selection(data=data,max_dim=2,min_persistence=0.3)\n",
    "#features[1]\n",
    "features"
   ]
  },
  {
   "cell_type": "code",
   "execution_count": 153,
   "metadata": {},
   "outputs": [],
   "source": [
    "def interval_intersection(array:list,flag=False):\n",
    "    if len(array) == 1:\n",
    "        return array[0],flag\n",
    "    else:\n",
    "        #Sort by lower bound\n",
    "        array.sort(key=lambda x:x[0])\n",
    "        \n",
    "        A = array[0]\n",
    "        B = array[1]\n",
    "       \n",
    "        #Check for intersection?\n",
    "        if min(B) <= max(A):\n",
    "            array[1] = np.array([min(B),min(max(A),max(B))]) \n",
    "            print(f'Intersection, new interval: {array[1]}')\n",
    "            flag=True\n",
    "        else:\n",
    "            print('No intersection')\n",
    "            if flag:\n",
    "                #If there has been previous intersection then have this interval propapgate\n",
    "                array[1] = A\n",
    "        #Recursive Call\n",
    "        return interval_intersection(array[1:],flag)\n",
    "        \n",
    "    \n",
    "    \n",
    "    "
   ]
  },
  {
   "cell_type": "code",
   "execution_count": 154,
   "metadata": {},
   "outputs": [
    {
     "name": "stdout",
     "output_type": "stream",
     "text": [
      "No intersection\n"
     ]
    },
    {
     "data": {
      "text/plain": [
       "(array([6, 7]), False)"
      ]
     },
     "execution_count": 154,
     "metadata": {},
     "output_type": "execute_result"
    }
   ],
   "source": [
    "#Testing\n",
    "test = list([np.array([2,4]),np.array([6,7])])\n",
    "\n",
    "interval_intersection(test)"
   ]
  },
  {
   "cell_type": "code",
   "execution_count": 155,
   "metadata": {},
   "outputs": [
    {
     "data": {
      "text/plain": [
       "[array([0.57076627, 0.69632018]),\n",
       " array([0.76549393, 0.82692897]),\n",
       " array([0.91934031, 1.09779227]),\n",
       " array([1.15792251, 1.32050824]),\n",
       " array([1.32939112, 1.73892856]),\n",
       " array([1.59661341, 1.95280457]),\n",
       " array([1.60848558, 5.80093002]),\n",
       " array([1.62732756, 1.7663691 ]),\n",
       " array([1.63913977, 1.79367816]),\n",
       " array([1.65686929, 2.0295794 ]),\n",
       " array([1.75887752, 2.06774783]),\n",
       " array([1.88078833, 1.96494329]),\n",
       " array([3., 6.])]"
      ]
     },
     "execution_count": 155,
     "metadata": {},
     "output_type": "execute_result"
    }
   ],
   "source": [
    "features[1]"
   ]
  },
  {
   "cell_type": "code",
   "execution_count": 156,
   "metadata": {},
   "outputs": [
    {
     "name": "stdout",
     "output_type": "stream",
     "text": [
      "No intersection\n",
      "No intersection\n",
      "No intersection\n",
      "No intersection\n",
      "Intersection, new interval: [1.59661341 1.73892856]\n",
      "Intersection, new interval: [1.60848558 1.73892856]\n",
      "Intersection, new interval: [1.62732756 1.73892856]\n",
      "Intersection, new interval: [1.63913977 1.73892856]\n",
      "Intersection, new interval: [1.65686929 1.73892856]\n",
      "No intersection\n",
      "No intersection\n",
      "No intersection\n"
     ]
    },
    {
     "data": {
      "text/plain": [
       "(array([1.65686929, 1.73892856]), True)"
      ]
     },
     "execution_count": 156,
     "metadata": {},
     "output_type": "execute_result"
    }
   ],
   "source": [
    "interval_intersection(features[1])"
   ]
  },
  {
   "cell_type": "code",
   "execution_count": 161,
   "metadata": {},
   "outputs": [],
   "source": [
    "features = feature_selection(data,max_dim,min_persistence=0.05)\n",
    "features[2] = [np.array([1.9,2.0]),np.array([3,6.0])]"
   ]
  },
  {
   "cell_type": "code",
   "execution_count": 4,
   "metadata": {},
   "outputs": [],
   "source": [
    "def candidate_intervals(filtered_pd:dict):\n",
    "    #Just for dim 2 since we are only concerned with cycles\n",
    "    dim = max(filtered_pd.keys())\n",
    "    print(dim)\n",
    "    #Get Max Nontrivial Dimension Recursively\n",
    "    if len(filtered_pd[dim]) ==0 : #Trivial Barcode\n",
    "        filtered_pd.pop(dim)\n",
    "        print(f'Trimmed dictionary: {filtered_pd}')\n",
    "        return candidate_intervals(filtered_pd)\n",
    "\n",
    "    #make sure intervals are sorted  \n",
    "    print(f'Im printing my persistence dictionary: {filtered_pd}')\n",
    "\n",
    "    cap,flag = interval_intersection(filtered_pd[dim])\n",
    "    print(f\"The intersection is: {cap}\")\n",
    "    #Have dimensions collapsed?\n",
    "    if dim == 1:\n",
    "        print('Dimension is 1')\n",
    "        #Is there nontrivial intersection\n",
    "        print(filtered_pd[dim][-1])\n",
    "        if flag:\n",
    "            print('About to return, should not recurse farther')\n",
    "            return cap\n",
    "            #returns list of all non-trivial homology intervals\n",
    "            \n",
    "        else:\n",
    "            return filtered_pd[dim]\n",
    "\n",
    "    #dim 2 or greater\n",
    "    if flag:\n",
    "        print('No intersection confirmed, should procceed to next dimension')\n",
    "        #Proceed element wise down to next dimension\n",
    "            #Add all intervals to lower dimension\n",
    "        for interval in filtered_pd[dim]:\n",
    "            filtered_pd[dim-1].append(interval)\n",
    "    else:\n",
    "        filtered_pd[dim-1].append(cap)\n",
    "    #Remove current dimension and proceed to next, recursively\n",
    "    filtered_pd.pop(dim)\n",
    "    print(f'Trimmed pd: {filtered_pd}')\n",
    "\n",
    "    return candidate_intervals(filtered_pd)\n",
    "            "
   ]
  },
  {
   "cell_type": "code",
   "execution_count": 164,
   "metadata": {},
   "outputs": [
    {
     "name": "stdout",
     "output_type": "stream",
     "text": [
      "2\n",
      "Im printing my persistence dictionary: {2: [array([1.9, 2. ]), array([3., 6.])], 1: [array([0.57076627, 0.69632018]), array([0.76549393, 0.82692897]), array([0.91934031, 1.09779227]), array([1.15792251, 1.32050824]), array([1.32939112, 1.73892856]), array([1.59661341, 1.95280457]), array([1.60848558, 5.80093002]), array([1.62732756, 1.7663691 ]), array([1.63913977, 1.79367816]), array([1.65686929, 2.0295794 ]), array([1.75887752, 2.06774783]), array([1.88078833, 1.96494329])]}\n",
      "No intersection\n",
      "The intersection is: [3. 6.]\n",
      "Trimmed pd: {1: [array([0.57076627, 0.69632018]), array([0.76549393, 0.82692897]), array([0.91934031, 1.09779227]), array([1.15792251, 1.32050824]), array([1.32939112, 1.73892856]), array([1.59661341, 1.95280457]), array([1.60848558, 5.80093002]), array([1.62732756, 1.7663691 ]), array([1.63913977, 1.79367816]), array([1.65686929, 2.0295794 ]), array([1.75887752, 2.06774783]), array([1.88078833, 1.96494329]), array([3., 6.])]}\n",
      "1\n",
      "Im printing my persistence dictionary: {1: [array([0.57076627, 0.69632018]), array([0.76549393, 0.82692897]), array([0.91934031, 1.09779227]), array([1.15792251, 1.32050824]), array([1.32939112, 1.73892856]), array([1.59661341, 1.95280457]), array([1.60848558, 5.80093002]), array([1.62732756, 1.7663691 ]), array([1.63913977, 1.79367816]), array([1.65686929, 2.0295794 ]), array([1.75887752, 2.06774783]), array([1.88078833, 1.96494329]), array([3., 6.])]}\n",
      "No intersection\n",
      "No intersection\n",
      "No intersection\n",
      "No intersection\n",
      "Intersection, new interval: [1.59661341 1.73892856]\n",
      "Intersection, new interval: [1.60848558 1.73892856]\n",
      "Intersection, new interval: [1.62732756 1.73892856]\n",
      "Intersection, new interval: [1.63913977 1.73892856]\n",
      "Intersection, new interval: [1.65686929 1.73892856]\n",
      "No intersection\n",
      "No intersection\n",
      "No intersection\n",
      "The intersection is: [1.65686929 1.73892856]\n",
      "Dimension is 1\n",
      "[3. 6.]\n"
     ]
    },
    {
     "data": {
      "text/plain": [
       "array([1.65686929, 1.73892856])"
      ]
     },
     "execution_count": 164,
     "metadata": {},
     "output_type": "execute_result"
    }
   ],
   "source": [
    "candidate_intervals(features)"
   ]
  },
  {
   "cell_type": "code",
   "execution_count": null,
   "metadata": {},
   "outputs": [],
   "source": []
  },
  {
   "cell_type": "code",
   "execution_count": 32,
   "metadata": {},
   "outputs": [
    {
     "data": {
      "text/plain": [
       "array([[1, 2],\n",
       "       [3, 6],\n",
       "       [2, 5]])"
      ]
     },
     "execution_count": 32,
     "metadata": {},
     "output_type": "execute_result"
    }
   ],
   "source": [
    "np.sort(np.array([[1,2],[3,6],[2,5]]))"
   ]
  },
  {
   "cell_type": "code",
   "execution_count": 40,
   "metadata": {},
   "outputs": [
    {
     "data": {
      "text/plain": [
       "array([1, 2])"
      ]
     },
     "execution_count": 40,
     "metadata": {},
     "output_type": "execute_result"
    }
   ],
   "source": [
    "np.sort([2,1])"
   ]
  },
  {
   "cell_type": "code",
   "execution_count": 60,
   "metadata": {},
   "outputs": [
    {
     "data": {
      "text/plain": [
       "False"
      ]
     },
     "execution_count": 60,
     "metadata": {},
     "output_type": "execute_result"
    }
   ],
   "source": [
    "[1,2] >= [1,4]"
   ]
  },
  {
   "cell_type": "code",
   "execution_count": 30,
   "metadata": {},
   "outputs": [
    {
     "data": {
      "text/plain": [
       "[array([1.49610591, 5.92466354]), array([1.15251732, 1.36400008])]"
      ]
     },
     "execution_count": 30,
     "metadata": {},
     "output_type": "execute_result"
    }
   ],
   "source": [
    "features[1]"
   ]
  },
  {
   "cell_type": "code",
   "execution_count": 38,
   "metadata": {},
   "outputs": [],
   "source": [
    "a = .sort(key=lambda y: y[1])"
   ]
  },
  {
   "cell_type": "code",
   "execution_count": 40,
   "metadata": {},
   "outputs": [],
   "source": [
    "test = list(features[1])"
   ]
  },
  {
   "cell_type": "code",
   "execution_count": 42,
   "metadata": {},
   "outputs": [],
   "source": [
    "test.sort(key=lambda x:x[0])"
   ]
  },
  {
   "cell_type": "code",
   "execution_count": 43,
   "metadata": {},
   "outputs": [
    {
     "data": {
      "text/plain": [
       "[array([1.15251732, 1.36400008]), array([1.49610591, 5.92466354])]"
      ]
     },
     "execution_count": 43,
     "metadata": {},
     "output_type": "execute_result"
    }
   ],
   "source": [
    "test"
   ]
  },
  {
   "cell_type": "code",
   "execution_count": 44,
   "metadata": {},
   "outputs": [
    {
     "data": {
      "text/plain": [
       "0"
      ]
     },
     "execution_count": 44,
     "metadata": {},
     "output_type": "execute_result"
    }
   ],
   "source": [
    "len([])"
   ]
  },
  {
   "cell_type": "code",
   "execution_count": 150,
   "metadata": {},
   "outputs": [],
   "source": [
    "a = {'a':10,'b':11}"
   ]
  },
  {
   "cell_type": "code",
   "execution_count": 148,
   "metadata": {},
   "outputs": [
    {
     "data": {
      "text/plain": [
       "10"
      ]
     },
     "execution_count": 148,
     "metadata": {},
     "output_type": "execute_result"
    }
   ],
   "source": [
    "a.pop('a')"
   ]
  },
  {
   "cell_type": "code",
   "execution_count": 151,
   "metadata": {},
   "outputs": [
    {
     "ename": "TypeError",
     "evalue": "unhashable type: 'slice'",
     "output_type": "error",
     "traceback": [
      "\u001b[0;31m---------------------------------------------------------------------------\u001b[0m",
      "\u001b[0;31mTypeError\u001b[0m                                 Traceback (most recent call last)",
      "\u001b[0;32m<ipython-input-151-b598dbf9c745>\u001b[0m in \u001b[0;36m<module>\u001b[0;34m\u001b[0m\n\u001b[0;32m----> 1\u001b[0;31m \u001b[0ma\u001b[0m\u001b[0;34m[\u001b[0m\u001b[0;36m1\u001b[0m\u001b[0;34m:\u001b[0m\u001b[0;34m]\u001b[0m\u001b[0;34m\u001b[0m\u001b[0;34m\u001b[0m\u001b[0m\n\u001b[0m",
      "\u001b[0;31mTypeError\u001b[0m: unhashable type: 'slice'"
     ]
    }
   ],
   "source": []
  },
  {
   "cell_type": "code",
   "execution_count": 181,
   "metadata": {},
   "outputs": [
    {
     "data": {
      "text/plain": [
       "1.5"
      ]
     },
     "execution_count": 181,
     "metadata": {},
     "output_type": "execute_result"
    }
   ],
   "source": [
    "np.median([1,2])"
   ]
  },
  {
   "cell_type": "code",
   "execution_count": 94,
   "metadata": {},
   "outputs": [],
   "source": [
    "test = features[1]"
   ]
  },
  {
   "cell_type": "code",
   "execution_count": 96,
   "metadata": {},
   "outputs": [
    {
     "ename": "ValueError",
     "evalue": "The truth value of an array with more than one element is ambiguous. Use a.any() or a.all()",
     "output_type": "error",
     "traceback": [
      "\u001b[0;31m---------------------------------------------------------------------------\u001b[0m",
      "\u001b[0;31mValueError\u001b[0m                                Traceback (most recent call last)",
      "\u001b[0;32m<ipython-input-96-d21d12fe3eeb>\u001b[0m in \u001b[0;36m<module>\u001b[0;34m\u001b[0m\n\u001b[0;32m----> 1\u001b[0;31m \u001b[0msorted\u001b[0m\u001b[0;34m(\u001b[0m\u001b[0mtest\u001b[0m\u001b[0;34m,\u001b[0m\u001b[0mkey\u001b[0m\u001b[0;34m=\u001b[0m\u001b[0;32mlambda\u001b[0m \u001b[0mx\u001b[0m\u001b[0;34m:\u001b[0m\u001b[0mx\u001b[0m\u001b[0;34m[\u001b[0m\u001b[0;36m0\u001b[0m\u001b[0;34m]\u001b[0m\u001b[0;34m)\u001b[0m\u001b[0;34m\u001b[0m\u001b[0;34m\u001b[0m\u001b[0m\n\u001b[0m",
      "\u001b[0;31mValueError\u001b[0m: The truth value of an array with more than one element is ambiguous. Use a.any() or a.all()"
     ]
    }
   ],
   "source": [
    "sorted(test,key=lambda x:x[0])"
   ]
  },
  {
   "cell_type": "code",
   "execution_count": 97,
   "metadata": {},
   "outputs": [
    {
     "data": {
      "text/plain": [
       "[array([0.57076627, 0.69632018]),\n",
       " array([0.76549393, 0.82692897]),\n",
       " array([0.91934031, 1.09779227]),\n",
       " array([1.15792251, 1.32050824]),\n",
       " array([1.32939112, 1.73892856]),\n",
       " array([1.59661341, 1.95280457]),\n",
       " array([1.60848558, 5.80093002]),\n",
       " array([1.62732756, 1.7663691 ]),\n",
       " array([1.63913977, 1.79367816]),\n",
       " array([1.65686929, 2.0295794 ]),\n",
       " array([1.75887752, 2.06774783]),\n",
       " array([1.88078833, 1.96494329]),\n",
       " [array([1.9, 2. ])]]"
      ]
     },
     "execution_count": 97,
     "metadata": {},
     "output_type": "execute_result"
    }
   ],
   "source": [
    "test"
   ]
  },
  {
   "cell_type": "markdown",
   "metadata": {},
   "source": [
    "# Tested Functions"
   ]
  },
  {
   "cell_type": "code",
   "execution_count": 185,
   "metadata": {},
   "outputs": [],
   "source": [
    "def feature_selection(data,max_dim,min_persistence):\n",
    "    \"\"\"This function will compute the persistence barcode of a point cloud using Ripser, and plot the diagram.\n",
    "\n",
    "This function uses scikit-tda's ripser.py: a lean persistent homology package for Python.\n",
    "\n",
    "Note:\n",
    "    max_dim: specifies the maximum dimension of homology to be computed\n",
    "    data: txt file or numpy array\n",
    "    \n",
    "     This will be done by selecting the betti numbers that persist longer than the threshold\n",
    "        Then radii can be selected that preserve homology for each successive dimension. \n",
    "    \"\"\"\n",
    "\n",
    "#     if type(vertices)==str:\n",
    "#         with open(vertices) as f:\n",
    "#             np.loadtxt(f, delimiter=delim)\n",
    "\n",
    "\n",
    "\n",
    "    #Generate Persistence Diagram for Point Cloud and Visualize\n",
    "    dgms = ripser(data,maxdim=max_dim)['dgms']\n",
    "    plot_diagrams(dgms, show=True)\n",
    "\n",
    "    \n",
    "    #Convert to Numpy\n",
    "    barcodes = np.array(dgms,dtype=object)\n",
    "    features = dict()\n",
    "\n",
    "    for dim in range(max_dim,0,-1):\n",
    "        barcode = barcodes[dim]\n",
    "        persistent_features = []\n",
    "\n",
    "        if len(features)>0:\n",
    "            for interval in barcode:\n",
    "                persistence = abs(interval[1] - interval[0]) #Death of feature - Birth of Feature\n",
    "                #Save features that persist longer than min_persistence\n",
    "                if persistence > min_persistence:\n",
    "                    persistent_features.append(interval)\n",
    "        \n",
    "        #Ensure intervals are sorted by their lower bounds\n",
    "        persistent_features.sort(key=lambda x:x[0])\n",
    "        features[dim] = persistent_features\n",
    "        \n",
    "    return features\n",
    "            \n",
    "def interval_intersection(array:list,flag=False):\n",
    "    if len(array) == 1:\n",
    "        return array[0],flag\n",
    "    else:\n",
    "        #Sort by lower bound\n",
    "        array.sort(key=lambda x:x[0])\n",
    "        \n",
    "        A = array[0]\n",
    "        B = array[1]\n",
    "       \n",
    "        #Check for intersection?\n",
    "        if min(B) <= max(A):\n",
    "            array[1] = np.array([min(B),min(max(A),max(B))]) \n",
    "            print(f'Intersection, new interval: {array[1]}')\n",
    "            flag=True\n",
    "        else:\n",
    "            print('No intersection')\n",
    "            if flag:\n",
    "                #If there has been previous intersection then have this interval propapgate\n",
    "                array[1] = A\n",
    "        #Recursive Call\n",
    "        return interval_intersection(array[1:],flag)\n",
    "        \n",
    "\n",
    "def candidate_intervals(filtered_pd:dict):\n",
    "    #Just for dim 2 since we are only concerned with cycles\n",
    "    dim = max(filtered_pd.keys())\n",
    "    print(dim)\n",
    "    #Get Max Nontrivial Dimension Recursively\n",
    "    if len(filtered_pd[dim]) ==0 : #Trivial Barcode\n",
    "        filtered_pd.pop(dim)\n",
    "        print(f'Trimmed dictionary: {filtered_pd}')\n",
    "        if len(filtered_pd) == 0:\n",
    "            print('No candidate intervals found. Try increasing minimum persistence threshold')\n",
    "            return None\n",
    "        return candidate_intervals(filtered_pd)\n",
    "\n",
    "    #make sure intervals are sorted  \n",
    "    print(f'Im printing my persistence dictionary: {filtered_pd}')\n",
    "\n",
    "    cap,flag = interval_intersection(filtered_pd[dim])\n",
    "    print(f\"The intersection is: {cap}\")\n",
    "    #Have dimensions collapsed?\n",
    "    if dim == 1:\n",
    "        print('Dimension is 1')\n",
    "        #Is there nontrivial intersection\n",
    "        print(filtered_pd[dim][-1])\n",
    "        if flag:\n",
    "            print('About to return, should not recurse farther')\n",
    "            return cap\n",
    "            #returns list of all non-trivial homology intervals\n",
    "            \n",
    "        else:\n",
    "            return filtered_pd[dim]\n",
    "\n",
    "    #dim 2 or greater\n",
    "    if flag:\n",
    "        print('No intersection confirmed, should procceed to next dimension')\n",
    "        #Proceed element wise down to next dimension\n",
    "            #Add all intervals to lower dimension\n",
    "        for interval in filtered_pd[dim]:\n",
    "            filtered_pd[dim-1].append(interval)\n",
    "    else:\n",
    "        filtered_pd[dim-1].append(cap)\n",
    "    #Remove current dimension and proceed to next, recursively\n",
    "    filtered_pd.pop(dim)\n",
    "    print(f'Trimmed pd: {filtered_pd}')\n",
    "\n",
    "    return candidate_intervals(filtered_pd)\n",
    "\n",
    "\n",
    "\n",
    "def select_radii(data,max_dim,min_persistence):\n",
    "    \n",
    "    features = feature_selection(data,max_dim,min_persistence)\n",
    "    candidates = candidate_intervals(features)\n",
    "    \n",
    "    #Take the median of each candidate interval\n",
    "    return [np.mean(x) for x in candidates]\n",
    "            "
   ]
  },
  {
   "cell_type": "code",
   "execution_count": 177,
   "metadata": {},
   "outputs": [
    {
     "data": {
      "text/plain": [
       "array([[-0.96998971,  0.205808  ,  0.12947216],\n",
       "       [-0.31768639,  0.90976139,  0.26722568],\n",
       "       [ 0.96575295,  0.15691368, -0.20663819],\n",
       "       ...,\n",
       "       [-0.68152027,  0.53782273, -0.49626286],\n",
       "       [ 0.39833095,  0.90794496,  0.13026283],\n",
       "       [-0.56400921,  0.49564592,  0.66047614]])"
      ]
     },
     "execution_count": 177,
     "metadata": {},
     "output_type": "execute_result"
    }
   ],
   "source": [
    "vertices = '../Data/sphere_points.txt'\n",
    "with open(vertices) as f:\n",
    "    data = np.loadtxt(f, delimiter=',')\n",
    "    \n",
    "data"
   ]
  },
  {
   "cell_type": "code",
   "execution_count": 183,
   "metadata": {},
   "outputs": [
    {
     "data": {
      "image/png": "[encoded data removed]",
      "text/plain": [
       "<Figure size 640x480 with 1 Axes>"
      ]
     },
     "metadata": {},
     "output_type": "display_data"
    },
    {
     "name": "stdout",
     "output_type": "stream",
     "text": [
      "2\n",
      "Trimmed dictionary: {1: [array([0.13005643, 0.18831174]), array([0.14263815, 0.23455934]), array([0.14549866, 0.20632273]), array([0.14794572, 0.20618224]), array([0.15760303, 0.28437123]), array([0.16691206, 0.27632448]), array([0.17046714, 0.35080749]), array([0.17979462, 0.23838797]), array([0.18289371, 0.32616496]), array([0.18499741, 0.26084769]), array([0.18721302, 0.34183678]), array([0.18968955, 0.29380199]), array([0.19699132, 0.29677421]), array([0.20173126, 0.34459835]), array([0.2019757 , 0.32655531]), array([0.20399989, 0.33282545]), array([0.20400783, 0.25446719]), array([0.20441139, 0.29324383]), array([0.20566651, 0.36061746]), array([0.20622595, 0.28445101]), array([0.21053369, 0.42050108]), array([0.21060634, 0.39592442]), array([0.21124706, 0.32411921]), array([0.21239986, 0.27500319]), array([0.21328367, 0.26976016]), array([0.21401632, 0.4072485 ]), array([0.21606705, 0.28615156]), array([0.21618207, 0.29799399]), array([0.21631297, 0.31348905]), array([0.2187607 , 0.27088246]), array([0.22076589, 0.3864868 ]), array([0.22347441, 0.40033889]), array([0.22358347, 0.30322322]), array([0.22592919, 0.33492076]), array([0.2299798 , 0.37971815]), array([0.23327617, 0.51762676]), array([0.23541808, 0.34081614]), array([0.23721212, 0.31036606]), array([0.24830097, 0.32665497]), array([0.25293824, 0.40259844]), array([0.25809589, 0.34162787]), array([0.2650387 , 0.38572407]), array([0.26535824, 0.48413935]), array([0.2731581 , 0.33151773]), array([0.27660236, 0.41993523]), array([0.28112039, 0.40269625]), array([0.29812172, 0.38383505]), array([0.30727679, 0.43780833])]}\n",
      "1\n",
      "Im printing my persistence dictionary: {1: [array([0.13005643, 0.18831174]), array([0.14263815, 0.23455934]), array([0.14549866, 0.20632273]), array([0.14794572, 0.20618224]), array([0.15760303, 0.28437123]), array([0.16691206, 0.27632448]), array([0.17046714, 0.35080749]), array([0.17979462, 0.23838797]), array([0.18289371, 0.32616496]), array([0.18499741, 0.26084769]), array([0.18721302, 0.34183678]), array([0.18968955, 0.29380199]), array([0.19699132, 0.29677421]), array([0.20173126, 0.34459835]), array([0.2019757 , 0.32655531]), array([0.20399989, 0.33282545]), array([0.20400783, 0.25446719]), array([0.20441139, 0.29324383]), array([0.20566651, 0.36061746]), array([0.20622595, 0.28445101]), array([0.21053369, 0.42050108]), array([0.21060634, 0.39592442]), array([0.21124706, 0.32411921]), array([0.21239986, 0.27500319]), array([0.21328367, 0.26976016]), array([0.21401632, 0.4072485 ]), array([0.21606705, 0.28615156]), array([0.21618207, 0.29799399]), array([0.21631297, 0.31348905]), array([0.2187607 , 0.27088246]), array([0.22076589, 0.3864868 ]), array([0.22347441, 0.40033889]), array([0.22358347, 0.30322322]), array([0.22592919, 0.33492076]), array([0.2299798 , 0.37971815]), array([0.23327617, 0.51762676]), array([0.23541808, 0.34081614]), array([0.23721212, 0.31036606]), array([0.24830097, 0.32665497]), array([0.25293824, 0.40259844]), array([0.25809589, 0.34162787]), array([0.2650387 , 0.38572407]), array([0.26535824, 0.48413935]), array([0.2731581 , 0.33151773]), array([0.27660236, 0.41993523]), array([0.28112039, 0.40269625]), array([0.29812172, 0.38383505]), array([0.30727679, 0.43780833])]}\n",
      "Intersection, new interval: [0.14263815 0.18831174]\n",
      "Intersection, new interval: [0.14549866 0.18831174]\n",
      "Intersection, new interval: [0.14794572 0.18831174]\n",
      "Intersection, new interval: [0.15760303 0.18831174]\n",
      "Intersection, new interval: [0.16691206 0.18831174]\n",
      "Intersection, new interval: [0.17046714 0.18831174]\n",
      "Intersection, new interval: [0.17979462 0.18831174]\n",
      "Intersection, new interval: [0.18289371 0.18831174]\n",
      "Intersection, new interval: [0.18499741 0.18831174]\n",
      "Intersection, new interval: [0.18721302 0.18831174]\n",
      "No intersection\n",
      "No intersection\n",
      "No intersection\n",
      "No intersection\n",
      "No intersection\n",
      "No intersection\n",
      "No intersection\n",
      "No intersection\n",
      "No intersection\n",
      "No intersection\n",
      "No intersection\n",
      "No intersection\n",
      "No intersection\n",
      "No intersection\n",
      "No intersection\n",
      "No intersection\n",
      "No intersection\n",
      "No intersection\n",
      "No intersection\n",
      "No intersection\n",
      "No intersection\n",
      "No intersection\n",
      "No intersection\n",
      "No intersection\n",
      "No intersection\n",
      "No intersection\n",
      "No intersection\n",
      "No intersection\n",
      "No intersection\n",
      "No intersection\n",
      "No intersection\n",
      "No intersection\n",
      "No intersection\n",
      "No intersection\n",
      "No intersection\n",
      "No intersection\n",
      "No intersection\n",
      "The intersection is: [0.18721302 0.18831174]\n",
      "Dimension is 1\n",
      "[0.30727679 0.43780833]\n"
     ]
    },
    {
     "data": {
      "text/plain": [
       "[0.1872130185365677, 0.18831174075603485]"
      ]
     },
     "execution_count": 183,
     "metadata": {},
     "output_type": "execute_result"
    }
   ],
   "source": [
    "select_radii(data,max_dim,min_persistence=0.05)"
   ]
  },
  {
   "cell_type": "code",
   "execution_count": 179,
   "metadata": {},
   "outputs": [],
   "source": [
    "dgms = ripser(data,maxdim=max_dim)['dgms']\n"
   ]
  },
  {
   "cell_type": "code",
   "execution_count": 182,
   "metadata": {},
   "outputs": [
    {
     "name": "stderr",
     "output_type": "stream",
     "text": [
      "<ipython-input-182-c1bb55526b3d>:1: VisibleDeprecationWarning: Creating an ndarray from ragged nested sequences (which is a list-or-tuple of lists-or-tuples-or ndarrays with different lengths or shapes) is deprecated. If you meant to do this, you must specify 'dtype=object' when creating the ndarray.\n",
      "  np.array(dgms).shape\n"
     ]
    },
    {
     "data": {
      "text/plain": [
       "(3,)"
      ]
     },
     "execution_count": 182,
     "metadata": {},
     "output_type": "execute_result"
    }
   ],
   "source": [
    "np.array(dgms"
   ]
  },
  {
   "cell_type": "code",
   "execution_count": null,
   "metadata": {},
   "outputs": [],
   "source": []
  }
 ],
 "metadata": {
  "kernelspec": {
   "display_name": "Python 3",
   "language": "python",
   "name": "python3"
  },
  "language_info": {
   "codemirror_mode": {
    "name": "ipython",
    "version": 3
   },
   "file_extension": ".py",
   "mimetype": "text/x-python",
   "name": "python",
   "nbconvert_exporter": "python",
   "pygments_lexer": "ipython3",
   "version": "3.8.10"
  }
 },
 "nbformat": 4,
 "nbformat_minor": 4
}
